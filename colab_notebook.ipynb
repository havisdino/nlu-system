{
 "cells": [
  {
   "cell_type": "code",
   "execution_count": null,
   "metadata": {
    "cellView": "form",
    "id": "lL3Dz10NHDYX"
   },
   "outputs": [],
   "source": [
    "#@title Getting things ready\n",
    "\n",
    "!git clone https://github.com/havisdino/bkai-hackathon-slu.git\n",
    "%cd bkai-hackathon-slu/\n",
    "!git checkout nlu\n",
    "!pip install -q -r requirements.txt"
   ]
  },
  {
   "cell_type": "code",
   "execution_count": null,
   "metadata": {
    "cellView": "form",
    "id": "lZOxPJ_FIlm-"
   },
   "outputs": [],
   "source": [
    "#@title Launch a Tensorboard session\n",
    "%load_ext tensorboard\n",
    "%tensorboard --logdir_spec=name1:/content/bkai-hackathon-slu/logs/tensorboard/intent,name2:/content/bkai-hackathon-slu/logs/tensorboard/entity"
   ]
  },
  {
   "cell_type": "code",
   "execution_count": null,
   "metadata": {
    "cellView": "form",
    "id": "Urbz5SHF6YrU"
   },
   "outputs": [],
   "source": [
    "#@title Train the entity recognizer\n",
    "\n",
    "batch_size = 128      #@param {type: \"integer\"}\n",
    "epochs = 200          #@param {type: \"integer\"}\n",
    "checkpoint_epoch = 25 #@param {type: \"integer\"}\n",
    "\n",
    "!python experimental/train_entity_first/train_entity.py \\\n",
    "    -b {batch_size} -e {epochs} -ch {checkpoint_epoch}"
   ]
  },
  {
   "cell_type": "code",
   "execution_count": null,
   "metadata": {
    "cellView": "form",
    "id": "SM3XodYVDEuv"
   },
   "outputs": [],
   "source": [
    "#@title Train the intent predictor\n",
    "\n",
    "base_checkpoint = None #@param {type: \"string\"}\n",
    "\n",
    "!python experimental/train_entity_first/train_intent.py \\\n",
    "    -bc \"{base_checkpoint}\" -b {batch_size} -e {epochs} \\\n",
    "    -ch {checkpoint_epoch}"
   ]
  },
  {
   "cell_type": "code",
   "execution_count": null,
   "metadata": {
    "cellView": "form",
    "id": "LJKILzl7RRsk"
   },
   "outputs": [],
   "source": [
    "#@title Inference\n",
    "\n",
    "sentence = None    #@param {type: \"string\"}\n",
    "intent_path = None #@param {type: \"string\"}\n",
    "entity_path = None #@param {type: \"string\"}\n",
    "!python inference.py -mi \"{intent_path}\" -me \"{entity_path}\" \\\n",
    "    --sentence \"{sentence}\""
   ]
  }
 ],
 "metadata": {
  "accelerator": "GPU",
  "colab": {
   "gpuType": "T4",
   "provenance": []
  },
  "kernelspec": {
   "display_name": "Python 3 (ipykernel)",
   "language": "python",
   "name": "python3"
  },
  "language_info": {
   "codemirror_mode": {
    "name": "ipython",
    "version": 3
   },
   "file_extension": ".py",
   "mimetype": "text/x-python",
   "name": "python",
   "nbconvert_exporter": "python",
   "pygments_lexer": "ipython3",
   "version": "3.9.10"
  }
 },
 "nbformat": 4,
 "nbformat_minor": 4
}
